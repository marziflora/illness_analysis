{
 "cells": [
  {
   "cell_type": "code",
   "execution_count": 2,
   "metadata": {},
   "outputs": [],
   "source": [
    "import pandas as pd\n",
    "import matplotlib.pyplot as plt\n",
    "%matplotlib inline\n",
    "import datetime\n",
    "from datetime import datetime\n",
    "import numpy as np\n",
    "import matplotlib as mpl\n",
    "import re\n",
    "from fastai.tabular import *"
   ]
  },
  {
   "cell_type": "code",
   "execution_count": 3,
   "metadata": {},
   "outputs": [
    {
     "data": {
      "text/html": [
       "<div>\n",
       "<style scoped>\n",
       "    .dataframe tbody tr th:only-of-type {\n",
       "        vertical-align: middle;\n",
       "    }\n",
       "\n",
       "    .dataframe tbody tr th {\n",
       "        vertical-align: top;\n",
       "    }\n",
       "\n",
       "    .dataframe thead th {\n",
       "        text-align: right;\n",
       "    }\n",
       "</style>\n",
       "<table border=\"1\" class=\"dataframe\">\n",
       "  <thead>\n",
       "    <tr style=\"text-align: right;\">\n",
       "      <th></th>\n",
       "      <th>Date</th>\n",
       "      <th>Place</th>\n",
       "      <th>Ill</th>\n",
       "    </tr>\n",
       "  </thead>\n",
       "  <tbody>\n",
       "    <tr>\n",
       "      <th>0</th>\n",
       "      <td>2010-12-16</td>\n",
       "      <td>dolnośląskie</td>\n",
       "      <td>1528</td>\n",
       "    </tr>\n",
       "    <tr>\n",
       "      <th>1</th>\n",
       "      <td>2010-12-08</td>\n",
       "      <td>dolnośląskie</td>\n",
       "      <td>2222</td>\n",
       "    </tr>\n",
       "    <tr>\n",
       "      <th>2</th>\n",
       "      <td>2010-12-01</td>\n",
       "      <td>dolnośląskie</td>\n",
       "      <td>2082</td>\n",
       "    </tr>\n",
       "    <tr>\n",
       "      <th>3</th>\n",
       "      <td>2010-11-23</td>\n",
       "      <td>dolnośląskie</td>\n",
       "      <td>2230</td>\n",
       "    </tr>\n",
       "    <tr>\n",
       "      <th>4</th>\n",
       "      <td>2010-11-16</td>\n",
       "      <td>dolnośląskie</td>\n",
       "      <td>1795</td>\n",
       "    </tr>\n",
       "  </tbody>\n",
       "</table>\n",
       "</div>"
      ],
      "text/plain": [
       "         Date         Place   Ill\n",
       "0  2010-12-16  dolnośląskie  1528\n",
       "1  2010-12-08  dolnośląskie  2222\n",
       "2  2010-12-01  dolnośląskie  2082\n",
       "3  2010-11-23  dolnośląskie  2230\n",
       "4  2010-11-16  dolnośląskie  1795"
      ]
     },
     "execution_count": 3,
     "metadata": {},
     "output_type": "execute_result"
    }
   ],
   "source": [
    "df_m = pd.read_csv(\"2007-2020.csv\", header=0)\n",
    "df_m.Place = df_m.Place.str.lower()\n",
    "df_m.head() #(7680, 3)"
   ]
  },
  {
   "cell_type": "code",
   "execution_count": 4,
   "metadata": {
    "scrolled": true
   },
   "outputs": [
    {
     "data": {
      "text/html": [
       "<div>\n",
       "<style scoped>\n",
       "    .dataframe tbody tr th:only-of-type {\n",
       "        vertical-align: middle;\n",
       "    }\n",
       "\n",
       "    .dataframe tbody tr th {\n",
       "        vertical-align: top;\n",
       "    }\n",
       "\n",
       "    .dataframe thead th {\n",
       "        text-align: right;\n",
       "    }\n",
       "</style>\n",
       "<table border=\"1\" class=\"dataframe\">\n",
       "  <thead>\n",
       "    <tr style=\"text-align: right;\">\n",
       "      <th></th>\n",
       "      <th>Token</th>\n",
       "      <th>Place</th>\n",
       "      <th>Date</th>\n",
       "      <th>Value</th>\n",
       "    </tr>\n",
       "  </thead>\n",
       "  <tbody>\n",
       "    <tr>\n",
       "      <th>0</th>\n",
       "      <td>grypa</td>\n",
       "      <td>śląskie</td>\n",
       "      <td>2010-01-10</td>\n",
       "      <td>699.486201</td>\n",
       "    </tr>\n",
       "    <tr>\n",
       "      <th>1</th>\n",
       "      <td>grypa</td>\n",
       "      <td>śląskie</td>\n",
       "      <td>2010-01-17</td>\n",
       "      <td>782.967092</td>\n",
       "    </tr>\n",
       "    <tr>\n",
       "      <th>2</th>\n",
       "      <td>grypa</td>\n",
       "      <td>śląskie</td>\n",
       "      <td>2010-01-24</td>\n",
       "      <td>689.975973</td>\n",
       "    </tr>\n",
       "    <tr>\n",
       "      <th>3</th>\n",
       "      <td>grypa</td>\n",
       "      <td>śląskie</td>\n",
       "      <td>2010-01-31</td>\n",
       "      <td>773.999028</td>\n",
       "    </tr>\n",
       "    <tr>\n",
       "      <th>4</th>\n",
       "      <td>grypa</td>\n",
       "      <td>śląskie</td>\n",
       "      <td>2010-02-07</td>\n",
       "      <td>600.234477</td>\n",
       "    </tr>\n",
       "  </tbody>\n",
       "</table>\n",
       "</div>"
      ],
      "text/plain": [
       "   Token    Place       Date       Value\n",
       "0  grypa  śląskie 2010-01-10  699.486201\n",
       "1  grypa  śląskie 2010-01-17  782.967092\n",
       "2  grypa  śląskie 2010-01-24  689.975973\n",
       "3  grypa  śląskie 2010-01-31  773.999028\n",
       "4  grypa  śląskie 2010-02-07  600.234477"
      ]
     },
     "execution_count": 4,
     "metadata": {},
     "output_type": "execute_result"
    }
   ],
   "source": [
    "df_t = pd.read_csv(\"trends.csv\", header=0, names=[\"Token\", \"Place\", \"Date\", \"Value\"], parse_dates=['Date'])\n",
    "df_trends_grypa = df_t[df_t.Token==\"grypa\"]\n",
    "df_trends_grypa.head()"
   ]
  },
  {
   "cell_type": "code",
   "execution_count": 5,
   "metadata": {},
   "outputs": [],
   "source": [
    "items_t = [i for i in df_trends_grypa.Date]\n",
    "\n",
    "def func_t(date, woj, items):\n",
    "    date = pd.to_datetime(date)\n",
    "    data_trends = min(items, key=lambda x: abs(x - date)) #najbliższa data --> zbierz z niej wartości\n",
    "    data_trends = str(data_trends)[0:10]\n",
    "    try:\n",
    "        value_trends = df_trends_grypa.Value[(df_trends_grypa.Date == data_trends)&\n",
    "                                         (df_trends_grypa.Place==woj)].values[0]\n",
    "    except:\n",
    "        value_trends = 0\n",
    "    return value_trends"
   ]
  },
  {
   "cell_type": "code",
   "execution_count": 6,
   "metadata": {
    "scrolled": true
   },
   "outputs": [
    {
     "data": {
      "text/html": [
       "<div>\n",
       "<style scoped>\n",
       "    .dataframe tbody tr th:only-of-type {\n",
       "        vertical-align: middle;\n",
       "    }\n",
       "\n",
       "    .dataframe tbody tr th {\n",
       "        vertical-align: top;\n",
       "    }\n",
       "\n",
       "    .dataframe thead th {\n",
       "        text-align: right;\n",
       "    }\n",
       "</style>\n",
       "<table border=\"1\" class=\"dataframe\">\n",
       "  <thead>\n",
       "    <tr style=\"text-align: right;\">\n",
       "      <th></th>\n",
       "      <th>Date</th>\n",
       "      <th>Place</th>\n",
       "      <th>Ill</th>\n",
       "      <th>Trends_grypa</th>\n",
       "    </tr>\n",
       "  </thead>\n",
       "  <tbody>\n",
       "    <tr>\n",
       "      <th>0</th>\n",
       "      <td>2010-12-16</td>\n",
       "      <td>dolnośląskie</td>\n",
       "      <td>1528</td>\n",
       "      <td>1486.792129</td>\n",
       "    </tr>\n",
       "    <tr>\n",
       "      <th>1</th>\n",
       "      <td>2010-12-08</td>\n",
       "      <td>dolnośląskie</td>\n",
       "      <td>2222</td>\n",
       "      <td>471.267077</td>\n",
       "    </tr>\n",
       "    <tr>\n",
       "      <th>2</th>\n",
       "      <td>2010-12-01</td>\n",
       "      <td>dolnośląskie</td>\n",
       "      <td>2082</td>\n",
       "      <td>1142.801026</td>\n",
       "    </tr>\n",
       "    <tr>\n",
       "      <th>3</th>\n",
       "      <td>2010-11-23</td>\n",
       "      <td>dolnośląskie</td>\n",
       "      <td>2230</td>\n",
       "      <td>694.166073</td>\n",
       "    </tr>\n",
       "    <tr>\n",
       "      <th>4</th>\n",
       "      <td>2010-11-16</td>\n",
       "      <td>dolnośląskie</td>\n",
       "      <td>1795</td>\n",
       "      <td>751.129637</td>\n",
       "    </tr>\n",
       "  </tbody>\n",
       "</table>\n",
       "</div>"
      ],
      "text/plain": [
       "         Date         Place   Ill  Trends_grypa\n",
       "0  2010-12-16  dolnośląskie  1528   1486.792129\n",
       "1  2010-12-08  dolnośląskie  2222    471.267077\n",
       "2  2010-12-01  dolnośląskie  2082   1142.801026\n",
       "3  2010-11-23  dolnośląskie  2230    694.166073\n",
       "4  2010-11-16  dolnośląskie  1795    751.129637"
      ]
     },
     "execution_count": 6,
     "metadata": {},
     "output_type": "execute_result"
    }
   ],
   "source": [
    "df_m['Trends_grypa'] = df_m.apply(lambda x: func_t(x.Date, x.Place, items_t), axis=1)\n",
    "df_m.head()"
   ]
  },
  {
   "cell_type": "code",
   "execution_count": 15,
   "metadata": {},
   "outputs": [
    {
     "data": {
      "text/html": [
       "<div>\n",
       "<style scoped>\n",
       "    .dataframe tbody tr th:only-of-type {\n",
       "        vertical-align: middle;\n",
       "    }\n",
       "\n",
       "    .dataframe tbody tr th {\n",
       "        vertical-align: top;\n",
       "    }\n",
       "\n",
       "    .dataframe thead th {\n",
       "        text-align: right;\n",
       "    }\n",
       "</style>\n",
       "<table border=\"1\" class=\"dataframe\">\n",
       "  <thead>\n",
       "    <tr style=\"text-align: right;\">\n",
       "      <th></th>\n",
       "      <th>Date</th>\n",
       "      <th>Place</th>\n",
       "      <th>Ill</th>\n",
       "      <th>Trends_grypa</th>\n",
       "    </tr>\n",
       "  </thead>\n",
       "  <tbody>\n",
       "    <tr>\n",
       "      <th>0</th>\n",
       "      <td>2010-12-16</td>\n",
       "      <td>dolnośląskie</td>\n",
       "      <td>1528</td>\n",
       "      <td>1486.792129</td>\n",
       "    </tr>\n",
       "    <tr>\n",
       "      <th>1</th>\n",
       "      <td>2010-12-08</td>\n",
       "      <td>dolnośląskie</td>\n",
       "      <td>2222</td>\n",
       "      <td>471.267077</td>\n",
       "    </tr>\n",
       "    <tr>\n",
       "      <th>2</th>\n",
       "      <td>2010-12-01</td>\n",
       "      <td>dolnośląskie</td>\n",
       "      <td>2082</td>\n",
       "      <td>1142.801026</td>\n",
       "    </tr>\n",
       "    <tr>\n",
       "      <th>3</th>\n",
       "      <td>2010-11-23</td>\n",
       "      <td>dolnośląskie</td>\n",
       "      <td>2230</td>\n",
       "      <td>694.166073</td>\n",
       "    </tr>\n",
       "    <tr>\n",
       "      <th>4</th>\n",
       "      <td>2010-11-16</td>\n",
       "      <td>dolnośląskie</td>\n",
       "      <td>1795</td>\n",
       "      <td>751.129637</td>\n",
       "    </tr>\n",
       "  </tbody>\n",
       "</table>\n",
       "</div>"
      ],
      "text/plain": [
       "         Date         Place   Ill  Trends_grypa\n",
       "0  2010-12-16  dolnośląskie  1528   1486.792129\n",
       "1  2010-12-08  dolnośląskie  2222    471.267077\n",
       "2  2010-12-01  dolnośląskie  2082   1142.801026\n",
       "3  2010-11-23  dolnośląskie  2230    694.166073\n",
       "4  2010-11-16  dolnośląskie  1795    751.129637"
      ]
     },
     "execution_count": 15,
     "metadata": {},
     "output_type": "execute_result"
    }
   ],
   "source": [
    "df_m.sort_values(by=\"Date\")\n",
    "df_m.to_csv(\"Meld_trends.csv\", index=False)\n",
    "\n",
    "df_m = pd.read_csv(\"Meld_trends.csv\", header=0)\n",
    "df_m.head()"
   ]
  },
  {
   "cell_type": "code",
   "execution_count": 17,
   "metadata": {},
   "outputs": [],
   "source": [
    "df_k = pd.read_csv(\"Klimat_woj.csv\", header=0, parse_dates=['Date'])"
   ]
  },
  {
   "cell_type": "code",
   "execution_count": 19,
   "metadata": {},
   "outputs": [],
   "source": [
    "def func_k(date, woj, items):\n",
    "    date = pd.to_datetime(date)\n",
    "    data_klimat = min(items, key=lambda x: abs(x - date))\n",
    "    data_klimat = str(data_klimat)[0:10]\n",
    "    print(data_klimat)\n",
    "    value_klimat = np.mean(df_k['Średnia dobowa temperatura'][(df_k.Date == data_klimat)&(df_k.Wojewodztwo==woj)])\n",
    "    return value_klimat"
   ]
  },
  {
   "cell_type": "code",
   "execution_count": null,
   "metadata": {},
   "outputs": [],
   "source": [
    "items_k = [i for i in df_k.Date] #Klimat\n",
    "\n",
    "df_m['TempDob'] = df_m.apply(lambda x: func_k(x.Date, x.Place, items_k), axis=1)\n",
    "# df_m.head()"
   ]
  },
  {
   "cell_type": "code",
   "execution_count": 341,
   "metadata": {},
   "outputs": [],
   "source": [
    "def func_7k(date, woj):\n",
    "    date = pd.to_datetime(date)\n",
    "    ranges = [date-datetime.timedelta(i) for i in range(0,7)]\n",
    "    ranges = [str(ranges[i])[0:10] for i in range(0,7)]\n",
    "    value_klimat = np.mean(df_k['Średnia dobowa temperatura']\n",
    "                    [(df_k.Date.isin(ranges))&(df_k.Wojewodztwo==woj)])\n",
    "#     print(value_klimat)\n",
    "    return value_klimat\n"
   ]
  },
  {
   "cell_type": "code",
   "execution_count": 342,
   "metadata": {},
   "outputs": [],
   "source": [
    "df_m['TempDob_last7'] =  df_m.apply(lambda x: func_7k(x.Date, x.Place), axis=1)"
   ]
  },
  {
   "cell_type": "code",
   "execution_count": 344,
   "metadata": {},
   "outputs": [
    {
     "data": {
      "text/html": [
       "<div>\n",
       "<style scoped>\n",
       "    .dataframe tbody tr th:only-of-type {\n",
       "        vertical-align: middle;\n",
       "    }\n",
       "\n",
       "    .dataframe tbody tr th {\n",
       "        vertical-align: top;\n",
       "    }\n",
       "\n",
       "    .dataframe thead th {\n",
       "        text-align: right;\n",
       "    }\n",
       "</style>\n",
       "<table border=\"1\" class=\"dataframe\">\n",
       "  <thead>\n",
       "    <tr style=\"text-align: right;\">\n",
       "      <th></th>\n",
       "      <th>Date</th>\n",
       "      <th>Place</th>\n",
       "      <th>Ill</th>\n",
       "      <th>TempDob_last7</th>\n",
       "    </tr>\n",
       "  </thead>\n",
       "  <tbody>\n",
       "    <tr>\n",
       "      <th>0</th>\n",
       "      <td>2010-12-16</td>\n",
       "      <td>dolnośląskie</td>\n",
       "      <td>1528</td>\n",
       "      <td>-5.385714</td>\n",
       "    </tr>\n",
       "    <tr>\n",
       "      <th>1</th>\n",
       "      <td>2010-12-08</td>\n",
       "      <td>dolnośląskie</td>\n",
       "      <td>2222</td>\n",
       "      <td>-5.853061</td>\n",
       "    </tr>\n",
       "    <tr>\n",
       "      <th>2</th>\n",
       "      <td>2010-12-01</td>\n",
       "      <td>dolnośląskie</td>\n",
       "      <td>2082</td>\n",
       "      <td>-4.779592</td>\n",
       "    </tr>\n",
       "    <tr>\n",
       "      <th>3</th>\n",
       "      <td>2010-11-23</td>\n",
       "      <td>dolnośląskie</td>\n",
       "      <td>2230</td>\n",
       "      <td>4.122449</td>\n",
       "    </tr>\n",
       "    <tr>\n",
       "      <th>4</th>\n",
       "      <td>2010-11-16</td>\n",
       "      <td>dolnośląskie</td>\n",
       "      <td>1795</td>\n",
       "      <td>8.483673</td>\n",
       "    </tr>\n",
       "  </tbody>\n",
       "</table>\n",
       "</div>"
      ],
      "text/plain": [
       "         Date         Place   Ill  TempDob_last7\n",
       "0  2010-12-16  dolnośląskie  1528      -5.385714\n",
       "1  2010-12-08  dolnośląskie  2222      -5.853061\n",
       "2  2010-12-01  dolnośląskie  2082      -4.779592\n",
       "3  2010-11-23  dolnośląskie  2230       4.122449\n",
       "4  2010-11-16  dolnośląskie  1795       8.483673"
      ]
     },
     "execution_count": 344,
     "metadata": {},
     "output_type": "execute_result"
    }
   ],
   "source": [
    "df_m.head()"
   ]
  },
  {
   "cell_type": "code",
   "execution_count": null,
   "metadata": {},
   "outputs": [],
   "source": []
  }
 ],
 "metadata": {
  "kernelspec": {
   "display_name": "Python 3",
   "language": "python",
   "name": "python3"
  },
  "language_info": {
   "codemirror_mode": {
    "name": "ipython",
    "version": 3
   },
   "file_extension": ".py",
   "mimetype": "text/x-python",
   "name": "python",
   "nbconvert_exporter": "python",
   "pygments_lexer": "ipython3",
   "version": "3.7.3"
  }
 },
 "nbformat": 4,
 "nbformat_minor": 2
}
