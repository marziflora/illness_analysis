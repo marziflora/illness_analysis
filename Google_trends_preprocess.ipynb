{
 "cells": [
  {
   "cell_type": "code",
   "execution_count": null,
   "metadata": {},
   "outputs": [],
   "source": [
    "import json\n",
    "import pandas as pd\n",
    "\n",
    "df = pd.DataFrame([[0, 0, 0]], columns=[\"Token\", \"Date\", \"Value\"])\n",
    "\n",
    "for j in range(len(data['lines'])):\n",
    "    for i in range(len(data['lines'][0][\"points\"])):\n",
    "        df_data = data['lines'][j][\"points\"][i]['date']\n",
    "        df_value = data['lines'][j][\"points\"][i]['value']\n",
    "        df_token = data['lines'][j]['term']\n",
    "\n",
    "        df_new = pd.DataFrame([[df_token, df_data, df_value]], columns=[\"Token\", \"Date\", \"Value\"])\n",
    "        df = df.append(df_new)\n",
    "\n",
    "        name = \"trends\" + \".csv\"\n",
    "        df = df[1:]\n",
    "        df.to_csv(name, mode='a', index=False, header=False)"
   ]
  },
  {
   "cell_type": "code",
   "execution_count": null,
   "metadata": {},
   "outputs": [],
   "source": [
    "df = pd.read_csv(\"trends.csv\", header=0)\n",
    "df.columns=[\"Token\", \"Date\", \"Value\"]\n",
    "df"
   ]
  },
  {
   "cell_type": "code",
   "execution_count": null,
   "metadata": {},
   "outputs": [],
   "source": [
    "import calendar\n",
    "\n",
    "d = dict((v,k) for k,v in enumerate(calendar.month_abbr))"
   ]
  },
  {
   "cell_type": "code",
   "execution_count": null,
   "metadata": {},
   "outputs": [],
   "source": [
    "df.Date = pd.to_datetime(df.Date, format='%b %d %Y')\n",
    "df.to_csv(name, mode='w', index=False, header=True)"
   ]
  }
 ],
 "metadata": {
  "kernelspec": {
   "display_name": "Python 3",
   "language": "python",
   "name": "python3"
  },
  "language_info": {
   "codemirror_mode": {
    "name": "ipython",
    "version": 3
   },
   "file_extension": ".py",
   "mimetype": "text/x-python",
   "name": "python",
   "nbconvert_exporter": "python",
   "pygments_lexer": "ipython3",
   "version": "3.7.3"
  }
 },
 "nbformat": 4,
 "nbformat_minor": 2
}
